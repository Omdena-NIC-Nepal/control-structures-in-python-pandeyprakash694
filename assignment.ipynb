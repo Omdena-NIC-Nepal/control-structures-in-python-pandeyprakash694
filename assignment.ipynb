{
 "cells": [
  {
   "cell_type": "markdown",
   "metadata": {},
   "source": [
    "## Python Control Structures Assignment\n",
    "\n",
    "# Instructions\n",
    "Welcome to the Python Control Structures Assignment! In this assignment, you will work through a series of exercises to test your understanding of Python control structures like `while`, `for`, and `if` statements, including the use of `break` and `continue` statements. Your task is to implement the provided starter code and ensure your solutions meet the requirements.\n",
    "\n",
    "### Part 1: Looping Constructs\n",
    "\n",
    "#### Task 1: `while` loop\n",
    "- Write a `while` loop that prints all the even numbers from 0 to 20.\n",
    "- If the number reaches 16, break out of the loop."
   ]
  },
  {
   "cell_type": "code",
   "execution_count": 5,
   "metadata": {},
   "outputs": [
    {
     "name": "stdout",
     "output_type": "stream",
     "text": [
      "[0, 2, 4, 6, 8, 10, 12, 14, 16]\n"
     ]
    }
   ],
   "source": [
    "# Task 1: while loop\n",
    "number = 0\n",
    "even_number = []\n",
    "\n",
    "while number <= 20:\n",
    "    \n",
    "    if number % 2 == 0:\n",
    "        even_number.append(number)\n",
    "\n",
    "\n",
    "    if number == 16:\n",
    "        break\n",
    "        \n",
    "    number += 1\n",
    "\n",
    "print(even_number)\n",
    "\n",
    "        "
   ]
  },
  {
   "cell_type": "markdown",
   "metadata": {},
   "source": [
    "#### Task 2: `for` loop with `continue`\n",
    "- Write a `for` loop that iterates through numbers from 1 to 15.\n",
    "- If the number is divisible by 3, skip printing it using the `continue` statement.\n"
   ]
  },
  {
   "cell_type": "code",
   "execution_count": 9,
   "metadata": {},
   "outputs": [
    {
     "name": "stdout",
     "output_type": "stream",
     "text": [
      "[1, 2, 4, 5, 7, 8, 10, 11, 13, 14]\n"
     ]
    }
   ],
   "source": [
    "# Task 2: for loop with continue\n",
    "result = []\n",
    "for num in range(1, 16):\n",
    "    if num % 3 == 0:\n",
    "        continue\n",
    "    result.append(num)\n",
    "\n",
    "print(result)\n",
    "        "
   ]
  },
  {
   "cell_type": "markdown",
   "metadata": {},
   "source": [
    "#### Task 3: `if-else` statement\n",
    "- Write an `if-else` statement that checks if a given number is positive, negative, or zero.\n",
    "- Print an appropriate message for each case."
   ]
  },
  {
   "cell_type": "code",
   "execution_count": 10,
   "metadata": {},
   "outputs": [
    {
     "name": "stdout",
     "output_type": "stream",
     "text": [
      "positive\n"
     ]
    }
   ],
   "source": [
    "# Task 3: if-else statement\n",
    "import builtins\n",
    "import pytest\n",
    "from unittest.mock import patch\n",
    "\n",
    "@patch.object(builtins, 'input', lambda _: \"5\")  # Mock input() to always return \"5\"\n",
    "def test_notebook():\n",
    "    assignment = import_notebook_module('assignment.ipynb')\n",
    "    assert assignment.some_function() == expected_output\n",
    "\n",
    "\n",
    "if number > 0:\n",
    "    print('positive')\n",
    "elif number < 0:\n",
    "    print('negative')\n",
    "else:\n",
    "    print('zero')"
   ]
  },
  {
   "cell_type": "markdown",
   "metadata": {},
   "source": [
    "#### Task 4: Nested loops\n",
    "- Write a program that uses nested loops to print a multiplication table for numbers 1 through 5.\n"
   ]
  },
  {
   "cell_type": "code",
   "execution_count": 11,
   "metadata": {},
   "outputs": [
    {
     "name": "stdout",
     "output_type": "stream",
     "text": [
      "1 * 1 = 1\t\n",
      "1 * 2 = 2\t\n",
      "1 * 3 = 3\t\n",
      "1 * 4 = 4\t\n",
      "1 * 5 = 5\t\n",
      "2 * 1 = 2\t\n",
      "2 * 2 = 4\t\n",
      "2 * 3 = 6\t\n",
      "2 * 4 = 8\t\n",
      "2 * 5 = 10\t\n",
      "3 * 1 = 3\t\n",
      "3 * 2 = 6\t\n",
      "3 * 3 = 9\t\n",
      "3 * 4 = 12\t\n",
      "3 * 5 = 15\t\n",
      "4 * 1 = 4\t\n",
      "4 * 2 = 8\t\n",
      "4 * 3 = 12\t\n",
      "4 * 4 = 16\t\n",
      "4 * 5 = 20\t\n",
      "5 * 1 = 5\t\n",
      "5 * 2 = 10\t\n",
      "5 * 3 = 15\t\n",
      "5 * 4 = 20\t\n",
      "5 * 5 = 25\t\n"
     ]
    }
   ],
   "source": [
    "# Task 4: Nested loops\n",
    "result = []\n",
    "for i in range(1, 6):\n",
    "    for j in range(1, 6):\n",
    "        print(f\"{i} * {j} = {i * j}\", end=\"\\t\")    \n",
    "        print()"
   ]
  },
  {
   "cell_type": "markdown",
   "metadata": {},
   "source": []
  }
 ],
 "metadata": {
  "kernelspec": {
   "display_name": ".venv",
   "language": "python",
   "name": "python3"
  },
  "language_info": {
   "codemirror_mode": {
    "name": "ipython",
    "version": 3
   },
   "file_extension": ".py",
   "mimetype": "text/x-python",
   "name": "python",
   "nbconvert_exporter": "python",
   "pygments_lexer": "ipython3",
   "version": "3.9.6"
  }
 },
 "nbformat": 4,
 "nbformat_minor": 4
}
